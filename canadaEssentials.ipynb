{
 "cells": [
  {
   "cell_type": "code",
   "execution_count": 1,
   "id": "67422144-c987-4c4e-9c16-781723cdf0db",
   "metadata": {},
   "outputs": [
    {
     "name": "stdout",
     "output_type": "stream",
     "text": [
      "<class 'pandas.core.frame.DataFrame'>\n",
      "RangeIndex: 196 entries, 0 to 195\n",
      "Data columns (total 43 columns):\n",
      " #   Column    Non-Null Count  Dtype \n",
      "---  ------    --------------  ----- \n",
      " 0   Type      196 non-null    object\n",
      " 1   Coverage  196 non-null    object\n",
      " 2   OdName    196 non-null    object\n",
      " 3   AREA      196 non-null    int64 \n",
      " 4   AreaName  196 non-null    object\n",
      " 5   REG       196 non-null    int64 \n",
      " 6   RegName   196 non-null    object\n",
      " 7   DEV       196 non-null    int64 \n",
      " 8   DevName   196 non-null    object\n",
      " 9   1980      196 non-null    int64 \n",
      " 10  1981      196 non-null    int64 \n",
      " 11  1982      196 non-null    int64 \n",
      " 12  1983      196 non-null    int64 \n",
      " 13  1984      196 non-null    int64 \n",
      " 14  1985      196 non-null    int64 \n",
      " 15  1986      196 non-null    int64 \n",
      " 16  1987      196 non-null    int64 \n",
      " 17  1988      196 non-null    int64 \n",
      " 18  1989      196 non-null    int64 \n",
      " 19  1990      196 non-null    int64 \n",
      " 20  1991      196 non-null    int64 \n",
      " 21  1992      196 non-null    int64 \n",
      " 22  1993      196 non-null    int64 \n",
      " 23  1994      196 non-null    int64 \n",
      " 24  1995      196 non-null    int64 \n",
      " 25  1996      196 non-null    int64 \n",
      " 26  1997      196 non-null    int64 \n",
      " 27  1998      196 non-null    int64 \n",
      " 28  1999      196 non-null    int64 \n",
      " 29  2000      196 non-null    int64 \n",
      " 30  2001      196 non-null    int64 \n",
      " 31  2002      196 non-null    int64 \n",
      " 32  2003      196 non-null    int64 \n",
      " 33  2004      196 non-null    int64 \n",
      " 34  2005      196 non-null    int64 \n",
      " 35  2006      196 non-null    int64 \n",
      " 36  2007      196 non-null    int64 \n",
      " 37  2008      196 non-null    int64 \n",
      " 38  2009      196 non-null    int64 \n",
      " 39  2010      196 non-null    int64 \n",
      " 40  2011      196 non-null    int64 \n",
      " 41  2012      196 non-null    int64 \n",
      " 42  2013      196 non-null    int64 \n",
      "dtypes: int64(37), object(6)\n",
      "memory usage: 66.0+ KB\n",
      "None\n"
     ]
    }
   ],
   "source": [
    "#cols in canada dataframe\n",
    "import pandas as pd\n",
    "canada = pd.read_csv(\"Canada.csv\")\n",
    "print(canada.info())"
   ]
  },
  {
   "cell_type": "code",
   "execution_count": 2,
   "id": "6644944f-c671-4250-8944-952981c3f6a6",
   "metadata": {},
   "outputs": [
    {
     "name": "stdout",
     "output_type": "stream",
     "text": [
      "         Type    Coverage          OdName  AREA AreaName   REG   \n",
      "0  Immigrants  Foreigners     Afghanistan   935     Asia  5501  \\\n",
      "1  Immigrants  Foreigners         Albania   908   Europe   925   \n",
      "2  Immigrants  Foreigners         Algeria   903   Africa   912   \n",
      "3  Immigrants  Foreigners  American Samoa   909  Oceania   957   \n",
      "4  Immigrants  Foreigners         Andorra   908   Europe   925   \n",
      "\n",
      "           RegName  DEV             DevName  1980  ...  2004  2005  2006   \n",
      "0    Southern Asia  902  Developing regions    16  ...  2978  3436  3009  \\\n",
      "1  Southern Europe  901   Developed regions     1  ...  1450  1223   856   \n",
      "2  Northern Africa  902  Developing regions    80  ...  3616  3626  4807   \n",
      "3        Polynesia  902  Developing regions     0  ...     0     0     1   \n",
      "4  Southern Europe  901   Developed regions     0  ...     0     0     1   \n",
      "\n",
      "   2007  2008  2009  2010  2011  2012  2013  \n",
      "0  2652  2111  1746  1758  2203  2635  2004  \n",
      "1   702   560   716   561   539   620   603  \n",
      "2  3623  4005  5393  4752  4325  3774  4331  \n",
      "3     0     0     0     0     0     0     0  \n",
      "4     1     0     0     0     0     1     1  \n",
      "\n",
      "[5 rows x 43 columns]\n"
     ]
    }
   ],
   "source": [
    "#first 5 rows in canada dataframe\n",
    "import pandas as pd\n",
    "canada = pd.read_csv(\"Canada.csv\")\n",
    "print(canada.head())"
   ]
  },
  {
   "cell_type": "code",
   "execution_count": 3,
   "id": "335d271a-a6e7-4006-a370-1eebd1285abd",
   "metadata": {},
   "outputs": [
    {
     "name": "stdout",
     "output_type": "stream",
     "text": [
      "             AREA          REG         DEV          1980          1981   \n",
      "count  196.000000   196.000000  196.000000    196.000000    196.000000  \\\n",
      "mean   913.204082  1247.739796  902.250000    730.290816    656.331633   \n",
      "std     14.429997  1182.618008    6.959498   3664.971286   2484.869895   \n",
      "min    903.000000   905.000000  901.000000      0.000000      0.000000   \n",
      "25%    903.000000   914.000000  902.000000      0.000000      0.000000   \n",
      "50%    908.000000   922.000000  902.000000     13.500000     10.000000   \n",
      "75%    935.000000   926.000000  902.000000    263.000000    296.750000   \n",
      "max    999.000000  5501.000000  999.000000  44000.000000  24796.000000   \n",
      "\n",
      "               1982          1983          1984          1985          1986   \n",
      "count    196.000000    196.000000    196.000000    196.000000    196.000000  \\\n",
      "mean     618.239796    455.025510    450.367347    430.336735    506.892857   \n",
      "std     2198.843498   1529.175952   1580.492649   1469.775915   1529.161726   \n",
      "min        0.000000      0.000000      0.000000      0.000000      0.000000   \n",
      "25%        0.000000      0.000000      0.000000      0.000000      0.750000   \n",
      "50%       11.500000     12.000000     13.500000     17.000000     19.500000   \n",
      "75%      292.250000    181.250000    189.000000    199.000000    257.000000   \n",
      "max    20620.000000  13635.000000  14855.000000  14368.000000  13303.000000   \n",
      "\n",
      "       ...          2004          2005          2006          2007   \n",
      "count  ...    196.000000    196.000000    196.000000    196.000000  \\\n",
      "mean   ...   1203.173469   1337.969388   1283.877551   1207.923469   \n",
      "std    ...   3705.454268   4421.525944   3923.791864   3442.092092   \n",
      "min    ...      0.000000      0.000000      0.000000      0.000000   \n",
      "25%    ...     20.000000     28.750000     25.500000     31.500000   \n",
      "50%    ...    193.500000    210.500000    224.000000    198.000000   \n",
      "75%    ...    789.500000    852.500000    849.250000    940.500000   \n",
      "max    ...  36619.000000  42584.000000  33848.000000  28742.000000   \n",
      "\n",
      "               2008          2009          2010          2011          2012   \n",
      "count    196.000000    196.000000    196.000000    196.000000    196.000000  \\\n",
      "mean    1261.448980   1286.581633   1432.076531   1269.122449   1315.831633   \n",
      "std     3691.110002   3822.816364   4454.546970   4020.795822   4236.731113   \n",
      "min        0.000000      0.000000      0.000000      0.000000      0.000000   \n",
      "25%       31.500000     36.500000     41.250000     37.750000     42.750000   \n",
      "50%      205.000000    215.500000    213.500000    187.500000    234.000000   \n",
      "75%      956.250000    907.250000    938.000000    815.750000    790.000000   \n",
      "max    30037.000000  29622.000000  38617.000000  36765.000000  34315.000000   \n",
      "\n",
      "               2013  \n",
      "count    196.000000  \n",
      "mean    1321.535714  \n",
      "std     4227.087570  \n",
      "min        0.000000  \n",
      "25%       45.000000  \n",
      "50%      215.000000  \n",
      "75%      826.500000  \n",
      "max    34129.000000  \n",
      "\n",
      "[8 rows x 37 columns]\n"
     ]
    }
   ],
   "source": [
    "#summary statistics  in canada dataframe\n",
    "import pandas as pd\n",
    "canada = pd.read_csv(\"Canada.csv\")\n",
    "print(canada.describe())"
   ]
  },
  {
   "cell_type": "code",
   "execution_count": 4,
   "id": "a05216fa-e2e0-4c9f-80cd-38c4eb10bee9",
   "metadata": {},
   "outputs": [
    {
     "name": "stdout",
     "output_type": "stream",
     "text": [
      "(196, 43)\n"
     ]
    }
   ],
   "source": [
    "#No of cols and rows in canada dataframe\n",
    "import pandas as pd\n",
    "canada = pd.read_csv(\"Canada.csv\")\n",
    "print(canada.shape)"
   ]
  }
 ],
 "metadata": {
  "kernelspec": {
   "display_name": "Python 3 (ipykernel)",
   "language": "python",
   "name": "python3"
  },
  "language_info": {
   "codemirror_mode": {
    "name": "ipython",
    "version": 3
   },
   "file_extension": ".py",
   "mimetype": "text/x-python",
   "name": "python",
   "nbconvert_exporter": "python",
   "pygments_lexer": "ipython3",
   "version": "3.8.10"
  }
 },
 "nbformat": 4,
 "nbformat_minor": 5
}
